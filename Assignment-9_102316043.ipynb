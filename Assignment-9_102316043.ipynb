{
 "cells": [
  {
   "cell_type": "code",
   "execution_count": 9,
   "id": "f7c65db6",
   "metadata": {},
   "outputs": [
    {
     "name": "stderr",
     "output_type": "stream",
     "text": [
      "[nltk_data] Downloading package punkt_tab to\n",
      "[nltk_data]     C:\\Users\\Ishtpreet\\AppData\\Roaming\\nltk_data...\n",
      "[nltk_data]   Unzipping tokenizers\\punkt_tab.zip.\n"
     ]
    },
    {
     "data": {
      "text/plain": [
       "True"
      ]
     },
     "execution_count": 9,
     "metadata": {},
     "output_type": "execute_result"
    }
   ],
   "source": [
    "nltk.download('punkt_tab')\n"
   ]
  },
  {
   "cell_type": "markdown",
   "id": "04f6128e",
   "metadata": {},
   "source": [
    "# Assignment 9"
   ]
  },
  {
   "cell_type": "markdown",
   "id": "92b22fa4",
   "metadata": {},
   "source": [
    "Q1. Write a unique paragraph (5-6 sentences) about your favorite topic (e.g., sports,\n",
    "technology, food, books, etc.).\n",
    "1. Convert text to lowercase and remove punctuation.\n",
    "2. Tokenize the text into words and sentences.\n",
    "3. Remove stopwords (using NLTK's stopwords list).\n",
    "4. Display word frequency distribuion (excluding stopwords)."
   ]
  },
  {
   "cell_type": "code",
   "execution_count": 11,
   "id": "38b2397c",
   "metadata": {},
   "outputs": [
    {
     "name": "stdout",
     "output_type": "stream",
     "text": [
      "Original Paragraph: \n",
      "Kyrie Irving is one of the most skilled basketball players in the NBA, known for his incredible handles and mesmerizing finishing ability around the rim.\n",
      "His signature move, the crossover, has left countless defenders embarrassed on the court, while his clutch shooting while being deffended by Steph Curry helped the Cleveland Cavaliers win their first NBA championship in 2016.\n",
      "Throughout his career, Irving has demonstrated a unique blend of creativity, athleticism, and technical precision that makes his playing style both effective and aesthetically beautiful to watch.\n",
      "Despite controversies surrounding his off-court opinions, his basketball talent remains undeniable and continues to inspire a generation of young players around the world.\n",
      "\n",
      "Cleaned Text: \n",
      "kyrie irving is one of the most skilled basketball players in the nba known for his incredible handles and mesmerizing finishing ability around the rim\n",
      "his signature move the crossover has left countless defenders embarrassed on the court while his clutch shooting while being deffended by steph curry helped the cleveland cavaliers win their first nba championship in 2016\n",
      "throughout his career irving has demonstrated a unique blend of creativity athleticism and technical precision that makes his playing style both effective and aesthetically beautiful to watch\n",
      "despite controversies surrounding his offcourt opinions his basketball talent remains undeniable and continues to inspire a generation of young players around the world\n",
      "\n",
      "Number of sentences: 4\n",
      "Sentences:\n",
      "1. Kyrie Irving is one of the most skilled basketball players in the NBA, known for his incredible handles and mesmerizing finishing ability around the rim.\n",
      "2. His signature move, the crossover, has left countless defenders embarrassed on the court, while his clutch shooting while being deffended by Steph Curry helped the Cleveland Cavaliers win their first NBA championship in 2016.\n",
      "3. Throughout his career, Irving has demonstrated a unique blend of creativity, athleticism, and technical precision that makes his playing style both effective and aesthetically beautiful to watch.\n",
      "4. Despite controversies surrounding his off-court opinions, his basketball talent remains undeniable and continues to inspire a generation of young players around the world.\n",
      "\n",
      "Number of words: 109\n",
      "First 15 tokens: ['kyrie', 'irving', 'is', 'one', 'of', 'the', 'most', 'skilled', 'basketball', 'players', 'in', 'the', 'nba', 'known', 'for']\n"
     ]
    }
   ],
   "source": [
    "import nltk\n",
    "import string\n",
    "import re\n",
    "from nltk.tokenize import word_tokenize, sent_tokenize\n",
    "\n",
    "\n",
    "# i\n",
    "paragraph = \"\"\"Kyrie Irving is one of the most skilled basketball players in the NBA, known for his incredible handles and mesmerizing finishing ability around the rim.\n",
    "His signature move, the crossover, has left countless defenders embarrassed on the court, while his clutch shooting while being deffended by Steph Curry helped the Cleveland Cavaliers win their first NBA championship in 2016.\n",
    "Throughout his career, Irving has demonstrated a unique blend of creativity, athleticism, and technical precision that makes his playing style both effective and aesthetically beautiful to watch.\n",
    "Despite controversies surrounding his off-court opinions, his basketball talent remains undeniable and continues to inspire a generation of young players around the world.\n",
    "\"\"\"\n",
    "print(\"Original Paragraph: \")\n",
    "print(paragraph)\n",
    "# i\n",
    "def clean_text(text):\n",
    "    text = text.lower()\n",
    "    text = text.translate(str.maketrans('', '', string.punctuation))\n",
    "    return text\n",
    "\n",
    "cleaned_para = clean_text(paragraph)\n",
    "print(f\"Cleaned Text: \\n{cleaned_para}\")\n",
    "\n",
    "# ii\n",
    "sentences = sent_tokenize(paragraph)\n",
    "words = word_tokenize(cleaned_para)\n",
    "\n",
    "print(f\"Number of sentences: {len(sentences)}\")\n",
    "print(\"Sentences:\")\n",
    "for i, sentence in enumerate(sentences, 1):\n",
    "    print(f\"{i}. {sentence}\")\n",
    "\n",
    "print(f\"\\nNumber of words: {len(words)}\")\n",
    "print(f\"First 15 tokens: {words[:15]}\")"
   ]
  },
  {
   "cell_type": "markdown",
   "id": "b5324ec5",
   "metadata": {},
   "source": [
    "Q2. Stemming and Lemmatization\n",
    "1. Take the tokenized words from Question 1 (after stopword removal).\n",
    "2. Apply stemming using NLTK's PorterStemmer and LancasterStemmer.\n",
    "3. Apply Lemmatization using NLTK's WordNetLemmatizer.\n",
    "4. Compare and display results of both techniques."
   ]
  },
  {
   "cell_type": "markdown",
   "id": "91becb10",
   "metadata": {
    "vscode": {
     "languageId": "plaintext"
    }
   },
   "source": [
    "Q3. Regular Expressions and Text Splitting\n",
    "1. Take their original text from Question 1.\n",
    "2. Use regular expressions to:\n",
    "    a. Extract all words with more than 5 letters.\n",
    "    b. Extract all numbers (if any exist in their text).\n",
    "    c. Extract all capitalized words.\n",
    "3. Use text splitting techniques to:\n",
    "    a. Split the text into words containing only alphabets (removing digits and special characters).\n",
    "    b. Extract words starting with a vowel."
   ]
  },
  {
   "cell_type": "markdown",
   "id": "59af78b9",
   "metadata": {},
   "source": [
    "**Q4. Custom Tokenization & Regex-based Text Cleaning**\n",
    "1. Take original text from Question 1.\n",
    "2. Write a custom tokenization function that:\n",
    "    a. Removes punctuation and special symbols, but keeps contractions (e.g., \"isn't\" should not be split into \"is\" and \"n't\").\n",
    "    b. Handles hyphenated words as a single token (e.g., \"state-of-the-art\" remains a single token).\n",
    "    c. Tokenizes numbers separately but keeps decimal numbers intact (e.g., \"3.14\" should remain as is).\n",
    "\n",
    "3. Use Regex Substitutions (re.sub) to:\n",
    "    a. Replace email addresses with '<EMAIL>' placeholder.\n",
    "    b. Replace URLs with '<URL>' placeholder.\n",
    "    c. Replace phone numbers (formats: 123-456-7890 or +91 9876543210) with '<PHONE>' placeholder.\n"
   ]
  }
 ],
 "metadata": {
  "kernelspec": {
   "display_name": "Python 3",
   "language": "python",
   "name": "python3"
  },
  "language_info": {
   "codemirror_mode": {
    "name": "ipython",
    "version": 3
   },
   "file_extension": ".py",
   "mimetype": "text/x-python",
   "name": "python",
   "nbconvert_exporter": "python",
   "pygments_lexer": "ipython3",
   "version": "3.12.9"
  }
 },
 "nbformat": 4,
 "nbformat_minor": 5
}
